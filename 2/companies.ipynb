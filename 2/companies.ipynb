{
 "cells": [
  {
   "cell_type": "code",
   "execution_count": 2,
   "metadata": {},
   "outputs": [],
   "source": [
    "import pandas as pd\n",
    "\n",
    "data = pd.read_csv('names_and_rubrics_learn.tsv', sep='\\t', header=None).values"
   ]
  },
  {
   "cell_type": "code",
   "execution_count": 7,
   "metadata": {},
   "outputs": [
    {
     "data": {
      "text/plain": [
       "(array([['Автобусная компания Транспорт52',\n",
       "         'Автобусные междугородные перевозки'],\n",
       "        ['Мастерок', 'Строительный магазин'],\n",
       "        ['Суши-бар', 'Суши-бар'],\n",
       "        ['Экспром', 'Металлоизделия'],\n",
       "        ['Универсам Бегемот', 'Супермаркет'],\n",
       "        ['Русстрой', 'Кровля и кровельные материалы'],\n",
       "        ['Прародомысл', 'Юридические услуги'],\n",
       "        ['Ростов Арена, блок D418', 'Блок стадиона'],\n",
       "        ['Детские игровые залы и площадки',\n",
       "         'Детские игровые залы и площадки'],\n",
       "        ['ДЮСШ', 'Спортивная школа']], dtype=object), 8908449)"
      ]
     },
     "execution_count": 7,
     "metadata": {},
     "output_type": "execute_result"
    }
   ],
   "source": [
    "data[:10], len(data)"
   ]
  },
  {
   "cell_type": "code",
   "execution_count": 8,
   "metadata": {},
   "outputs": [
    {
     "name": "stdout",
     "output_type": "stream",
     "text": [
      "1222\n",
      "[('Остановка общественного транспорта', 265405), ('Банкомат', 230857), ('Магазин продуктов', 222001), ('Детский сад', 191112), ('Платёжный терминал', 159885), ('Общеобразовательная школа', 159067), ('Гостиница', 138324), ('Администрация', 135056), ('Аптека', 125118), ('Автосервис, автотехцентр', 108163), ('Супермаркет', 104133), ('Автомобильная парковка', 99734), ('Банк', 97145), ('Кафе', 92419), ('Магазин автозапчастей и автотоваров', 89529), ('Магазин одежды', 86762), ('Детские игровые залы и площадки', 84761), ('Салон красоты', 82705), ('Жилой комплекс', 71494), ('Денежные переводы', 70914)]\n"
     ]
    }
   ],
   "source": [
    "from collections import Counter\n",
    "\n",
    "rubric_counter = Counter(data[:, 1])\n",
    "print(len(rubric_counter))\n",
    "print(rubric_counter.most_common(20))"
   ]
  },
  {
   "cell_type": "code",
   "execution_count": 10,
   "metadata": {},
   "outputs": [],
   "source": [
    "from sklearn.model_selection import train_test_split\n",
    "\n",
    "X_all = data[:, 0]\n",
    "y_all = data[:, 1]\n",
    "X_train, X_test, y_train, y_test = train_test_split(X_all, y_all, test_size=0.05)"
   ]
  },
  {
   "cell_type": "code",
   "execution_count": 11,
   "metadata": {},
   "outputs": [
    {
     "data": {
      "text/plain": [
       "(8463026, 445423)"
      ]
     },
     "execution_count": 11,
     "metadata": {},
     "output_type": "execute_result"
    }
   ],
   "source": [
    "len(X_train), len(X_test)"
   ]
  },
  {
   "cell_type": "code",
   "execution_count": 15,
   "metadata": {},
   "outputs": [],
   "source": [
    "import numpy as np\n",
    "\n",
    "train_rubrics = np.unique(y_train)\n",
    "rubrics_in_train_mask = np.isin(train_rubrics, X_train)\n",
    "rubrics_not_in_train = train_rubrics[np.logical_not(rubrics_in_train_mask)]\n",
    "X_train = np.concatenate([X_train, rubrics_not_in_train])\n",
    "y_train = np.concatenate([y_train, rubrics_not_in_train])"
   ]
  },
  {
   "cell_type": "code",
   "execution_count": 18,
   "metadata": {},
   "outputs": [
    {
     "data": {
      "text/plain": [
       "(8463117, 91, 1221)"
      ]
     },
     "execution_count": 18,
     "metadata": {},
     "output_type": "execute_result"
    }
   ],
   "source": [
    "len(X_train), len(rubrics_not_in_train), len(train_rubrics)"
   ]
  },
  {
   "cell_type": "code",
   "execution_count": null,
   "metadata": {},
   "outputs": [],
   "source": []
  }
 ],
 "metadata": {
  "kernelspec": {
   "display_name": "Python 3",
   "language": "python",
   "name": "python3"
  },
  "language_info": {
   "codemirror_mode": {
    "name": "ipython",
    "version": 3
   },
   "file_extension": ".py",
   "mimetype": "text/x-python",
   "name": "python",
   "nbconvert_exporter": "python",
   "pygments_lexer": "ipython3",
   "version": "3.6.5"
  }
 },
 "nbformat": 4,
 "nbformat_minor": 2
}
