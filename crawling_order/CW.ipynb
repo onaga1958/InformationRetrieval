{
 "cells": [
  {
   "cell_type": "code",
   "execution_count": 1,
   "metadata": {},
   "outputs": [],
   "source": [
    "import matplotlib.pyplot as plt\n",
    "import numpy as np\n",
    "import pandas as pd\n",
    "import scipy.stats as ss\n",
    "from collections import defaultdict, Counter\n",
    "from file_storage import FileStorage\n",
    "from heapq import heappush, heappop\n",
    "\n",
    "\n",
    "from bs4 import BeautifulSoup\n",
    "from urllib.parse import urljoin\n",
    "from urllib.parse import urldefrag\n",
    "import pickle\n",
    "import tqdm"
   ]
  },
  {
   "cell_type": "markdown",
   "metadata": {},
   "source": [
    "Storage немного пополнился со времен задания про pagerank, поэтому пересчитаем соседей и пейджранк"
   ]
  },
  {
   "cell_type": "code",
   "execution_count": 2,
   "metadata": {},
   "outputs": [
    {
     "data": {
      "text/plain": [
       "157154"
      ]
     },
     "execution_count": 2,
     "metadata": {},
     "output_type": "execute_result"
    }
   ],
   "source": [
    "file_storage = FileStorage('../filtered_storage')\n",
    "len(file_storage)"
   ]
  },
  {
   "cell_type": "code",
   "execution_count": 3,
   "metadata": {},
   "outputs": [],
   "source": [
    "def extract_links_from_html(url, html):\n",
    "    parser = BeautifulSoup(html)\n",
    "    return [\n",
    "        urldefrag(urljoin(url, link.get('href'))).url\n",
    "        for link in parser.findAll('a')\n",
    "    ]\n",
    "\n",
    "\n",
    "def build_neighbors(storage):\n",
    "    result = {}\n",
    "    for url, page in tqdm.tqdm(storage.items(), total=len(storage)):\n",
    "        result[url] = [\n",
    "            link for link in extract_links_from_html(url, page)\n",
    "            if link in storage\n",
    "        ]\n",
    "    return result\n",
    "\n",
    "\n",
    "def normilize_pagerank(pagerank, normalization_func=max):\n",
    "    normalization = normalization_func(pagerank.values())\n",
    "    return {url: rank / normalization for url, rank in pagerank.items()}\n",
    "\n",
    "\n",
    "def calc_diff(rank_a, rank_b):\n",
    "    return sum(\n",
    "        (value_a - rank_b[key]) ** 2\n",
    "        for key, value_a in rank_a.items()\n",
    "    ) / len(rank_a)\n",
    "\n",
    "\n",
    "def calc_pagerank(neighbors, iterations=20, delta=0.1, prev_pagerank=None, min_diff=1e-20):\n",
    "    if prev_pagerank is None:\n",
    "        prev_pagerank = defaultdict(lambda: 1 / len(neighbors))\n",
    "\n",
    "    for ind in range(iterations):\n",
    "        print('{} iteration, India rank: {}'.format(\n",
    "            ind, prev_pagerank['https://simple.wikipedia.org/wiki/India']\n",
    "        ))\n",
    "        mean_pagerank = sum(prev_pagerank.values()) / len(prev_pagerank)\n",
    "        pagerank = defaultdict(lambda: mean_pagerank * delta)\n",
    "        for url in neighbors.keys():\n",
    "            curr_neighbor_list = neighbors[url]\n",
    "            for neighbor_url in curr_neighbor_list:\n",
    "                pagerank[neighbor_url] += prev_pagerank[url] / len(curr_neighbor_list) * (1 - delta)\n",
    "        pagerank = normilize_pagerank(pagerank)\n",
    "        diff = calc_diff(pagerank, prev_pagerank)\n",
    "        print('diff: ' + str(diff))\n",
    "        if diff < min_diff:\n",
    "            break\n",
    "        prev_pagerank = pagerank\n",
    "    return pagerank"
   ]
  },
  {
   "cell_type": "code",
   "execution_count": 6,
   "metadata": {},
   "outputs": [
    {
     "name": "stderr",
     "output_type": "stream",
     "text": [
      "100%|██████████| 157154/157154 [1:04:57<00:00, 40.32it/s]\n"
     ]
    }
   ],
   "source": [
    "neighbors = build_neighbors(file_storage)"
   ]
  },
  {
   "cell_type": "code",
   "execution_count": 7,
   "metadata": {},
   "outputs": [],
   "source": [
    "with open('neighbors.pkl', 'wb') as f_out:\n",
    "    pickle.dump(neighbors, f_out)"
   ]
  },
  {
   "cell_type": "code",
   "execution_count": 4,
   "metadata": {},
   "outputs": [],
   "source": [
    "with open('neighbors.pkl', 'rb') as nei_file:\n",
    "    neighbors = pickle.load(nei_file, encoding='utf-8')"
   ]
  },
  {
   "cell_type": "code",
   "execution_count": 5,
   "metadata": {},
   "outputs": [],
   "source": [
    "neighbors_sets = {url: set(neighbor_list) for url, neighbor_list in neighbors.items()}"
   ]
  },
  {
   "cell_type": "code",
   "execution_count": 9,
   "metadata": {},
   "outputs": [
    {
     "name": "stdout",
     "output_type": "stream",
     "text": [
      "0 iteration, India rank: 6.363185155961668e-06\n",
      "diff: 6.498830639862381e-06\n",
      "1 iteration, India rank: 0.011153841633878397\n",
      "diff: 9.695499152897899e-08\n",
      "2 iteration, India rank: 0.016433137199733355\n",
      "diff: 1.7837428660129294e-08\n",
      "3 iteration, India rank: 0.01967546741884423\n",
      "diff: 4.929598694172049e-09\n",
      "4 iteration, India rank: 0.020752173792810955\n",
      "diff: 1.723636568875436e-09\n",
      "5 iteration, India rank: 0.021038478362333777\n",
      "diff: 6.796160961582491e-10\n",
      "6 iteration, India rank: 0.0210928643021524\n",
      "diff: 2.910212610972103e-10\n",
      "7 iteration, India rank: 0.021083982027049454\n",
      "diff: 1.348633558393078e-10\n",
      "8 iteration, India rank: 0.021062598526175078\n",
      "diff: 6.566972927109686e-11\n",
      "9 iteration, India rank: 0.021042581726013608\n",
      "diff: 3.391479836856501e-11\n",
      "10 iteration, India rank: 0.021026925060522537\n",
      "diff: 1.8059773454037743e-11\n",
      "11 iteration, India rank: 0.021015229917794795\n",
      "diff: 1.0033340249107487e-11\n",
      "12 iteration, India rank: 0.02100658578423475\n",
      "diff: 5.677615890879299e-12\n",
      "13 iteration, India rank: 0.021000091072270563\n",
      "diff: 3.3072369350334135e-12\n",
      "14 iteration, India rank: 0.02099511946302059\n",
      "diff: 1.94796579095642e-12\n",
      "15 iteration, India rank: 0.020991217047894507\n",
      "diff: 1.1698351452934716e-12\n",
      "16 iteration, India rank: 0.020988096153833957\n",
      "diff: 7.075953668750045e-13\n",
      "17 iteration, India rank: 0.02098555558430684\n",
      "diff: 4.336828522546582e-13\n",
      "18 iteration, India rank: 0.020983465296973203\n",
      "diff: 2.671868998270059e-13\n",
      "19 iteration, India rank: 0.020981730711790197\n",
      "diff: 1.6614999312597583e-13\n",
      "20 iteration, India rank: 0.020980285970009838\n",
      "diff: 1.03755645736709e-13\n",
      "21 iteration, India rank: 0.020979079766317042\n",
      "diff: 6.524284424953227e-14\n",
      "22 iteration, India rank: 0.020978073033734335\n",
      "diff: 4.1178254212547684e-14\n",
      "23 iteration, India rank: 0.020977233494272586\n",
      "diff: 2.6132891575983803e-14\n",
      "24 iteration, India rank: 0.02097653491066053\n",
      "diff: 1.6642614159780105e-14\n",
      "25 iteration, India rank: 0.020975954940654122\n",
      "diff: 1.0648042338237236e-14\n",
      "26 iteration, India rank: 0.020975474835372175\n",
      "diff: 6.835930262742469e-15\n",
      "27 iteration, India rank: 0.020975078510012887\n",
      "diff: 4.406888688441262e-15\n",
      "28 iteration, India rank: 0.020974752340392606\n",
      "diff: 2.8507100631418402e-15\n",
      "29 iteration, India rank: 0.02097448468486478\n",
      "diff: 1.8513143172172313e-15\n",
      "30 iteration, India rank: 0.02097426569957663\n",
      "diff: 1.2065103444864678e-15\n",
      "31 iteration, India rank: 0.020974087041752295\n",
      "diff: 7.893323206520142e-16\n",
      "32 iteration, India rank: 0.02097394169964063\n",
      "diff: 5.182900089167142e-16\n",
      "33 iteration, India rank: 0.0209738237840583\n",
      "diff: 3.416522827218026e-16\n",
      "34 iteration, India rank: 0.0209737283812946\n",
      "diff: 2.2607710184235757e-16\n",
      "35 iteration, India rank: 0.020973651399372847\n",
      "diff: 1.5020310621045042e-16\n",
      "36 iteration, India rank: 0.02097358944860876\n",
      "diff: 1.0019525094784252e-16\n",
      "37 iteration, India rank: 0.0209735397276908\n",
      "diff: 6.711700373750532e-17\n",
      "38 iteration, India rank: 0.020973499931494024\n",
      "diff: 4.5148995215703716e-17\n",
      "39 iteration, India rank: 0.020973468167806642\n",
      "diff: 3.050346155592195e-17\n",
      "40 iteration, India rank: 0.020973442888942224\n",
      "diff: 2.0699175917541603e-17\n",
      "41 iteration, India rank: 0.020973422832024163\n",
      "diff: 1.4109075030236354e-17\n",
      "42 iteration, India rank: 0.020973406969709583\n",
      "diff: 9.660458367798247e-18\n",
      "43 iteration, India rank: 0.02097339446821856\n",
      "diff: 6.644626639263254e-18\n",
      "44 iteration, India rank: 0.020973384652670266\n",
      "diff: 4.591102581314586e-18\n",
      "45 iteration, India rank: 0.020973376978029076\n",
      "diff: 3.1866661158863184e-18\n",
      "46 iteration, India rank: 0.020973371005221578\n",
      "diff: 2.221840137591978e-18\n",
      "47 iteration, India rank: 0.020973366381331987\n",
      "diff: 1.5560539522454364e-18\n",
      "48 iteration, India rank: 0.020973362823354852\n",
      "diff: 1.0945560065816574e-18\n",
      "49 iteration, India rank: 0.02097336010487399\n",
      "diff: 7.732369988111038e-19\n"
     ]
    }
   ],
   "source": [
    "pagerank = calc_pagerank(neighbors, iterations=50)"
   ]
  },
  {
   "cell_type": "code",
   "execution_count": 6,
   "metadata": {},
   "outputs": [],
   "source": [
    "def dump_pagerank(pagerank, path='pagerank_results.txt'):\n",
    "    with open(path, 'w') as pagerank_file:\n",
    "        for url, rank in pagerank.items():\n",
    "            pagerank_file.write(\"{:>7.6} {}\\n\".format(rank, url))\n",
    "\n",
    "\n",
    "def load_pagerank(path='pagerank_results.txt'):\n",
    "    with open(path) as pagerank_file:\n",
    "        pagerank = {}\n",
    "        for line in pagerank_file:\n",
    "            rank, url = line.strip().split()\n",
    "            pagerank[url] = float(rank)\n",
    "        return pagerank"
   ]
  },
  {
   "cell_type": "code",
   "execution_count": 13,
   "metadata": {},
   "outputs": [],
   "source": [
    "dump_pagerank(pagerank)"
   ]
  },
  {
   "cell_type": "code",
   "execution_count": 7,
   "metadata": {},
   "outputs": [],
   "source": [
    "pagerank = load_pagerank()"
   ]
  },
  {
   "cell_type": "markdown",
   "metadata": {},
   "source": [
    "neighbors - словарь url -> исходящие ссылки, построим словарь для входящих ссылок"
   ]
  },
  {
   "cell_type": "code",
   "execution_count": 13,
   "metadata": {},
   "outputs": [],
   "source": [
    "incoming_edges = defaultdict(set)\n",
    "for url, neighbor_iterable in neighbors.items():\n",
    "    for neighbor in neighbor_iterable:\n",
    "        incoming_edges[neighbor].add(url)"
   ]
  },
  {
   "cell_type": "markdown",
   "metadata": {},
   "source": [
    "Читерный обход"
   ]
  },
  {
   "cell_type": "code",
   "execution_count": 8,
   "metadata": {},
   "outputs": [],
   "source": [
    "def cheat_crawling(pagerank, neighbors, seed='https://simple.wikipedia.org/wiki/Main_Page'):\n",
    "    priority_queue = []\n",
    "    seen = {seed}\n",
    "    pagerank_order = []\n",
    "    heappush(priority_queue, (-pagerank[seed], seed))\n",
    "    \n",
    "    while priority_queue:\n",
    "        rank, url = heappop(priority_queue)\n",
    "        pagerank_order.append(-rank)\n",
    "        for neighbor in neighbors[url]:\n",
    "            if neighbor not in seen:\n",
    "                heappush(priority_queue, (-pagerank[neighbor], neighbor))\n",
    "                seen.add(neighbor)\n",
    "    return pagerank_order"
   ]
  },
  {
   "cell_type": "code",
   "execution_count": 32,
   "metadata": {},
   "outputs": [
    {
     "data": {
      "text/plain": [
       "141530"
      ]
     },
     "execution_count": 32,
     "metadata": {},
     "output_type": "execute_result"
    }
   ],
   "source": [
    "cheat = np.cumsum(cheat_crawling(pagerank, neighbors_sets))\n",
    "len(cheat)"
   ]
  },
  {
   "cell_type": "markdown",
   "metadata": {},
   "source": [
    "Получилось, что обошли не весь storage. В принципе это возможно, ведь когда мы качали содержимое википедии, мы обходили страницы с категориями, а сейчас мы их удалили. Многовато правда таких страниц, лучше убедимся, что нет баги в обходе."
   ]
  },
  {
   "cell_type": "markdown",
   "metadata": {},
   "source": [
    "Напишем BFS"
   ]
  },
  {
   "cell_type": "code",
   "execution_count": 10,
   "metadata": {},
   "outputs": [],
   "source": [
    "def BFS_crawling(pagerank, neighbors, seed='https://simple.wikipedia.org/wiki/Main_Page'):\n",
    "    queue = [seed]\n",
    "    seen = {seed}\n",
    "    pagerank_order = []\n",
    "    \n",
    "    while queue:\n",
    "        url = queue.pop(0)\n",
    "        pagerank_order.append(pagerank[url])\n",
    "        for neighbor in neighbors[url]:\n",
    "            if neighbor not in seen:\n",
    "                queue.append(neighbor)\n",
    "                seen.add(neighbor)\n",
    "    return pagerank_order, seen"
   ]
  },
  {
   "cell_type": "code",
   "execution_count": 37,
   "metadata": {},
   "outputs": [],
   "source": [
    "bfs_pagerank_order, seen = BFS_crawling(pagerank, neighbors_sets)"
   ]
  },
  {
   "cell_type": "code",
   "execution_count": 14,
   "metadata": {},
   "outputs": [
    {
     "data": {
      "text/plain": [
       "dict_items([(1, 12411), (2, 2583), (17, 16), (4, 95), (3, 393), (5, 61), (6, 24), (16, 18), (18, 4), (13, 3), (8, 6), (19, 1), (20, 2), (9, 2), (7, 2), (14, 1), (10, 1), (15, 1)])"
      ]
     },
     "execution_count": 14,
     "metadata": {},
     "output_type": "execute_result"
    }
   ],
   "source": [
    "Counter([len(incoming_edges[url]) for url in (set(file_storage.keys()) - seen)]).items()"
   ]
  },
  {
   "cell_type": "code",
   "execution_count": 15,
   "metadata": {},
   "outputs": [],
   "source": [
    "diff = set(file_storage.keys()) - seen"
   ]
  },
  {
   "cell_type": "code",
   "execution_count": 16,
   "metadata": {},
   "outputs": [
    {
     "name": "stdout",
     "output_type": "stream",
     "text": [
      "https://simple.wikipedia.org/wiki/University_of_the_City_of_Manila\n",
      "{'https://simple.wikipedia.org/wiki/PLM_College_of_Science', 'https://simple.wikipedia.org/wiki/Pamantasan_ng_Lungsod_ng_Maynila', 'https://simple.wikipedia.org/wiki/PLM_College_of_Tourism,_Hotel_%26_Travel_Industry_Management', 'https://simple.wikipedia.org/wiki/PLM_College_of_Mass_Communication', 'https://simple.wikipedia.org/wiki/University_of_the_City_of_Manila', 'https://simple.wikipedia.org/wiki/President_of_the_University_of_the_City_of_Manila', 'https://simple.wikipedia.org/wiki/Adel_Tamano', 'https://simple.wikipedia.org/wiki/PLM_College_of_Law', 'https://simple.wikipedia.org/wiki/PLM_College_of_Human_Development', 'https://simple.wikipedia.org/wiki/PLM_College_of_Tourism,_Hotel_and_Travel_Industry_Management', 'https://simple.wikipedia.org/wiki/PLM_College_of_Accountancy_%26_Economics', 'https://simple.wikipedia.org/wiki/Benjamin_Tayabas', 'https://simple.wikipedia.org/wiki/PLM_College_of_Medicine', 'https://simple.wikipedia.org/wiki/PLM_College_of_Physical_Education,_Recreation_%26_Sports', 'https://simple.wikipedia.org/wiki/PLM_College_of_Liberal_Arts', 'https://simple.wikipedia.org/wiki/PLM_College_of_Engineering_%26_Technology', 'https://simple.wikipedia.org/wiki/PLM_Mabuhay_Integrated_Learning_Center', 'https://simple.wikipedia.org/wiki/PLM_College_of_Management_%26_Entrepreneurship', 'https://simple.wikipedia.org/wiki/PLM_College_of_Physical_Therapy'}\n",
      "https://simple.wikipedia.org/wiki/Commission_on_Higher_Education_(Philippines)\n",
      "{'https://simple.wikipedia.org/wiki/PLM_College_of_Science', 'https://simple.wikipedia.org/wiki/Pamantasan_ng_Lungsod_ng_Maynila', 'https://simple.wikipedia.org/wiki/PLM_College_of_Tourism,_Hotel_%26_Travel_Industry_Management', 'https://simple.wikipedia.org/wiki/PLM_College_of_Mass_Communication', 'https://simple.wikipedia.org/wiki/University_of_the_City_of_Manila', 'https://simple.wikipedia.org/wiki/President_of_the_University_of_the_City_of_Manila', 'https://simple.wikipedia.org/wiki/Professional_Regulation_Commission_(Philippines)', 'https://simple.wikipedia.org/wiki/Professional_Regulation_Commission', 'https://simple.wikipedia.org/wiki/PLM_College_of_Law', 'https://simple.wikipedia.org/wiki/PLM_College_of_Human_Development', 'https://simple.wikipedia.org/wiki/PLM_College_of_Tourism,_Hotel_and_Travel_Industry_Management', 'https://simple.wikipedia.org/wiki/PLM_College_of_Accountancy_%26_Economics', 'https://simple.wikipedia.org/wiki/PLM_College_of_Medicine', 'https://simple.wikipedia.org/wiki/PLM_College_of_Physical_Education,_Recreation_%26_Sports', 'https://simple.wikipedia.org/wiki/PLM_College_of_Liberal_Arts', 'https://simple.wikipedia.org/wiki/PLM_College_of_Engineering_%26_Technology', 'https://simple.wikipedia.org/wiki/PLM_Mabuhay_Integrated_Learning_Center', 'https://simple.wikipedia.org/wiki/Commission_on_Higher_Education_(Philippines)', 'https://simple.wikipedia.org/wiki/PLM_College_of_Management_%26_Entrepreneurship', 'https://simple.wikipedia.org/wiki/PLM_College_of_Physical_Therapy'}\n",
      "https://simple.wikipedia.org/wiki/Ralph_Fletcher\n",
      "{'https://simple.wikipedia.org/wiki/Tommy_Trouble_and_the_Magic_Marble', 'https://simple.wikipedia.org/wiki/Marshfield_Dreams', 'https://simple.wikipedia.org/wiki/Relatively_Speaking_(book)', 'https://simple.wikipedia.org/wiki/Spider_Boy_(novel)', 'https://simple.wikipedia.org/wiki/Fig_Pudding', 'https://simple.wikipedia.org/wiki/Room_Enough_for_Love', 'https://simple.wikipedia.org/wiki/Twilight_Comes_Twice', 'https://simple.wikipedia.org/wiki/Flying_Solo', 'https://simple.wikipedia.org/wiki/Ralph_Fletcher', 'https://simple.wikipedia.org/wiki/A_Writing_Kind_of_Day', 'https://simple.wikipedia.org/wiki/Ordinary_Things', 'https://simple.wikipedia.org/wiki/The_One_O%27Clock_Chop', 'https://simple.wikipedia.org/wiki/Have_You_Been_to_the_Beach_Lately%3F', 'https://simple.wikipedia.org/wiki/Hello,_Harvest_Moon', 'https://simple.wikipedia.org/wiki/Uncle_Daddy', 'https://simple.wikipedia.org/wiki/Buried_Alive_(book)', 'https://simple.wikipedia.org/wiki/The_Circus_Surprise', 'https://simple.wikipedia.org/wiki/Moving_Day_(book)', 'https://simple.wikipedia.org/wiki/I_Am_Wings', 'https://simple.wikipedia.org/wiki/Grandpa_Never_Lies'}\n"
     ]
    }
   ],
   "source": [
    "for url in (set(file_storage.keys()) - seen):\n",
    "    if len(incoming_edges[url]) > 18:\n",
    "        print(url)\n",
    "        print(incoming_edges[url])"
   ]
  },
  {
   "cell_type": "code",
   "execution_count": 17,
   "metadata": {},
   "outputs": [],
   "source": [
    "for url in diff:\n",
    "    if any(nei not in diff for nei in incoming_edges[url]):\n",
    "        print(url)\n",
    "        print(incoming_edges[url])"
   ]
  },
  {
   "cell_type": "markdown",
   "metadata": {},
   "source": [
    "Получается да, на не найденные при обходе статьи не ссылается ни одной статьи из тех, что были посещены при обходе."
   ]
  },
  {
   "cell_type": "code",
   "execution_count": 38,
   "metadata": {},
   "outputs": [],
   "source": [
    "bfs = np.cumsum(bfs_pagerank_order)"
   ]
  },
  {
   "cell_type": "markdown",
   "metadata": {},
   "source": [
    "Напишем рандомный обход"
   ]
  },
  {
   "cell_type": "code",
   "execution_count": 19,
   "metadata": {},
   "outputs": [],
   "source": [
    "def random_crawling(pagerank, neighbors, seed='https://simple.wikipedia.org/wiki/Main_Page'):\n",
    "    queue = [seed]\n",
    "    seen = {seed}\n",
    "    pagerank_order = []\n",
    "    \n",
    "    while queue:\n",
    "        rnd_ind = np.random.randint(0, len(queue))\n",
    "        url = queue.pop(rnd_ind)\n",
    "        pagerank_order.append(pagerank[url])\n",
    "        for neighbor in neighbors[url]:\n",
    "            if neighbor not in seen:\n",
    "                queue.append(neighbor)\n",
    "                seen.add(neighbor)\n",
    "    return pagerank_order, seen"
   ]
  },
  {
   "cell_type": "code",
   "execution_count": 20,
   "metadata": {},
   "outputs": [],
   "source": [
    "random_pagerank_order, random_seen = random_crawling(pagerank, neighbors_sets)\n",
    "random = np.cumsum(random_pagerank_order)"
   ]
  },
  {
   "cell_type": "code",
   "execution_count": 21,
   "metadata": {},
   "outputs": [
    {
     "data": {
      "text/plain": [
       "True"
      ]
     },
     "execution_count": 21,
     "metadata": {},
     "output_type": "execute_result"
    }
   ],
   "source": [
    "random_seen == seen"
   ]
  },
  {
   "cell_type": "markdown",
   "metadata": {},
   "source": [
    "Обошли те же вершины, что и при BFS. Похоже все правильно"
   ]
  },
  {
   "cell_type": "markdown",
   "metadata": {},
   "source": [
    "Напишем обход с приоритезацией по числу вершин"
   ]
  },
  {
   "cell_type": "code",
   "execution_count": 25,
   "metadata": {},
   "outputs": [],
   "source": [
    "def priority_by_in_degree_crawling(pagerank, neighbors, seed='https://simple.wikipedia.org/wiki/Main_Page'):\n",
    "    num_neighbors = defaultdict(int)\n",
    "    num_neighbors[seed] = 0\n",
    "    visited = set()\n",
    "    pagerank_order = []\n",
    "    \n",
    "    while num_neighbors:\n",
    "        url, _ = max(num_neighbors.items(), key=lambda x: x[1])\n",
    "        del num_neighbors[url]\n",
    "        visited.add(url)\n",
    "        pagerank_order.append(pagerank[url])\n",
    "        for neighbor in neighbors[url]:\n",
    "            if neighbor not in visited:\n",
    "                num_neighbors[neighbor] += 1\n",
    "    return pagerank_order"
   ]
  },
  {
   "cell_type": "code",
   "execution_count": 26,
   "metadata": {},
   "outputs": [],
   "source": [
    "priority_by_in_degree = np.cumsum(priority_by_in_degree_crawling(pagerank, neighbors_sets))"
   ]
  },
  {
   "cell_type": "code",
   "execution_count": 27,
   "metadata": {},
   "outputs": [
    {
     "data": {
      "text/plain": [
       "141530"
      ]
     },
     "execution_count": 27,
     "metadata": {},
     "output_type": "execute_result"
    }
   ],
   "source": [
    "len(priority_by_in_degree)"
   ]
  },
  {
   "cell_type": "markdown",
   "metadata": {},
   "source": [
    "В супер читерной оставим только те страницы, до которых можем дотянуться при обходе"
   ]
  },
  {
   "cell_type": "code",
   "execution_count": 28,
   "metadata": {},
   "outputs": [],
   "source": [
    "super_cheat = np.cumsum(sorted((value for url, value in pagerank.items() if url in seen), reverse=True))"
   ]
  },
  {
   "cell_type": "code",
   "execution_count": 39,
   "metadata": {},
   "outputs": [
    {
     "data": {
      "image/png": "[encoded data removed]",
      "text/plain": [
       "<Figure size 720x720 with 1 Axes>"
      ]
     },
     "metadata": {
      "needs_background": "light"
     },
     "output_type": "display_data"
    }
   ],
   "source": [
    "x = np.arange(len(cheat))\n",
    "plt.figure(figsize=(10, 10))\n",
    "plt.plot(x, super_cheat, label='super_cheat')\n",
    "plt.plot(x, cheat, label='cheat')\n",
    "plt.plot(x, bfs, label='bfs')\n",
    "plt.plot(x, random, label='random')\n",
    "plt.plot(x, priority_by_in_degree, label='priority_by_in_degree')\n",
    "plt.legend()\n",
    "plt.show()"
   ]
  },
  {
   "cell_type": "markdown",
   "metadata": {},
   "source": [
    "Читерные очень похожи, давайте посмотрим поближе"
   ]
  },
  {
   "cell_type": "code",
   "execution_count": 40,
   "metadata": {},
   "outputs": [
    {
     "data": {
      "text/plain": [
       "array([1.       , 1.0332813, 1.1556423, 1.2267954, 1.2700391, 1.3081188,\n",
       "       1.3459468, 1.3790978, 1.4102172, 1.4412547, 1.471093 , 1.5007949,\n",
       "       1.5291381, 1.5554132, 1.5804116, 1.6048601, 1.6289775, 1.6530108,\n",
       "       1.6763263, 1.6992608])"
      ]
     },
     "execution_count": 40,
     "metadata": {},
     "output_type": "execute_result"
    }
   ],
   "source": [
    "cheat[:20]"
   ]
  },
  {
   "cell_type": "code",
   "execution_count": 41,
   "metadata": {},
   "outputs": [
    {
     "data": {
      "text/plain": [
       "array([1.       , 1.122361 , 1.1935141, 1.2367578, 1.2748375, 1.3126655,\n",
       "       1.3459468, 1.3790978, 1.4119371, 1.4430565, 1.474094 , 1.5039323,\n",
       "       1.5336342, 1.5619774, 1.5882525, 1.6132509, 1.6376994, 1.6618168,\n",
       "       1.6858501, 1.7091656])"
      ]
     },
     "execution_count": 41,
     "metadata": {},
     "output_type": "execute_result"
    }
   ],
   "source": [
    "super_cheat[:20]"
   ]
  },
  {
   "cell_type": "code",
   "execution_count": 43,
   "metadata": {},
   "outputs": [
    {
     "data": {
      "text/plain": [
       "True"
      ]
     },
     "execution_count": 43,
     "metadata": {},
     "output_type": "execute_result"
    }
   ],
   "source": [
    "(super_cheat - cheat >= 0).all()"
   ]
  },
  {
   "cell_type": "markdown",
   "metadata": {},
   "source": [
    "Все же разница есть, но действительно не особо большая"
   ]
  }
 ],
 "metadata": {
  "kernelspec": {
   "display_name": "Python 3",
   "language": "python",
   "name": "python3"
  },
  "language_info": {
   "codemirror_mode": {
    "name": "ipython",
    "version": 3
   },
   "file_extension": ".py",
   "mimetype": "text/x-python",
   "name": "python",
   "nbconvert_exporter": "python",
   "pygments_lexer": "ipython3",
   "version": "3.7.2"
  }
 },
 "nbformat": 4,
 "nbformat_minor": 2
}
