{
 "cells": [
  {
   "cell_type": "code",
   "execution_count": 1,
   "metadata": {},
   "outputs": [],
   "source": [
    "from file_storage import FileStorage\n",
    "from collections import defaultdict\n",
    "import tqdm"
   ]
  },
  {
   "cell_type": "code",
   "execution_count": 2,
   "metadata": {},
   "outputs": [],
   "source": [
    "storage = FileStorage('../storage')"
   ]
  },
  {
   "cell_type": "code",
   "execution_count": 3,
   "metadata": {},
   "outputs": [],
   "source": [
    "filtered_storage = FileStorage('../filtered_storage')"
   ]
  },
  {
   "cell_type": "markdown",
   "metadata": {},
   "source": [
    "Отлифльтруем сторадж, полученный в прошлом задании"
   ]
  },
  {
   "cell_type": "code",
   "execution_count": 4,
   "metadata": {},
   "outputs": [],
   "source": [
    "beginning = 'https://simple.wikipedia.org/wiki/'\n",
    "ban_patterns = [\n",
    "    'Help', 'Help_talk', 'Wikipedia', 'Special', 'File', 'Template', 'Talk',\n",
    "    'Template_talk', 'User_talk', 'User', 'Meta', 'user', 'MediaWiki', 'MediaWiki_talk',\n",
    "    'Wikipedia_talk', 'Category_talk', 'Module', 'Media', 'Category', 'T'\n",
    "]\n",
    "\n",
    "def filter_url(url):\n",
    "    url_end = url[len(beginning):]\n",
    "    return any(url_end.startswith(ban_pattern + ':') for ban_pattern in ban_patterns)"
   ]
  },
  {
   "cell_type": "code",
   "execution_count": 5,
   "metadata": {},
   "outputs": [],
   "source": [
    "for url, page in storage.items():\n",
    "    if not filter_url(url):\n",
    "        filtered_storage.write(url, page)"
   ]
  },
  {
   "cell_type": "markdown",
   "metadata": {},
   "source": [
    "Сторим соседей для каждого урла: извлекаем другие урлы из html, применяем к ним urldefrag и проверяем, что url находится в storage, то есть принадлежит к нашему графу."
   ]
  },
  {
   "cell_type": "code",
   "execution_count": 5,
   "metadata": {},
   "outputs": [],
   "source": [
    "from bs4 import BeautifulSoup\n",
    "from urllib.parse import urljoin\n",
    "from urllib.parse import urldefrag\n",
    "import pickle\n",
    "\n",
    "def extract_links_from_html(url, html):\n",
    "    parser = BeautifulSoup(html)\n",
    "    return [\n",
    "        urldefrag(urljoin(url, link.get('href'))).url\n",
    "        for link in parser.findAll('a')\n",
    "    ]"
   ]
  },
  {
   "cell_type": "code",
   "execution_count": 6,
   "metadata": {},
   "outputs": [],
   "source": [
    "def build_neighbors(storage):\n",
    "    result = {}\n",
    "    for url, page in tqdm.tqdm(storage.items()):\n",
    "        result[url] = [\n",
    "            link for link in extract_links_from_html(url, page)\n",
    "            if link in storage\n",
    "        ]\n",
    "    return result"
   ]
  },
  {
   "cell_type": "code",
   "execution_count": 10,
   "metadata": {},
   "outputs": [
    {
     "name": "stderr",
     "output_type": "stream",
     "text": [
      "151127it [1:00:03, 41.94it/s]\n"
     ]
    }
   ],
   "source": [
    "neighbors = build_neighbors(filtered_storage)"
   ]
  },
  {
   "cell_type": "code",
   "execution_count": 96,
   "metadata": {},
   "outputs": [],
   "source": [
    "with open('neighbors.pkl', 'wb') as f_out:\n",
    "    pickle.dump(neighbors, f_out)"
   ]
  },
  {
   "cell_type": "code",
   "execution_count": 7,
   "metadata": {},
   "outputs": [],
   "source": [
    "with open('neighbors.pkl', 'rb') as nei_file:\n",
    "    neighbors = pickle.load(nei_file, encoding='utf-8')"
   ]
  },
  {
   "cell_type": "markdown",
   "metadata": {},
   "source": [
    "Вычислим pagerank"
   ]
  },
  {
   "cell_type": "code",
   "execution_count": 47,
   "metadata": {},
   "outputs": [],
   "source": [
    "def normilize_pagerank(pagerank, normalization_func=max):\n",
    "    normalization = normalization_func(pagerank.values())\n",
    "    return {url: rank / normalization for url, rank in pagerank.items()}\n",
    "\n",
    "\n",
    "def calc_diff(rank_a, rank_b):\n",
    "    return sum(\n",
    "        (value_a - rank_b[key]) ** 2\n",
    "        for key, value_a in rank_a.items()\n",
    "    ) / len(rank_a)\n",
    "\n",
    "\n",
    "def calc_pagerank(neighbors, iterations=20, delta=0.1, prev_pagerank=None, min_diff=1e-20):\n",
    "    if prev_pagerank is None:\n",
    "        prev_pagerank = defaultdict(lambda: 1 / len(neighbors))\n",
    "\n",
    "    for ind in range(iterations):\n",
    "        print('{} iteration, India rank: {}'.format(\n",
    "            ind, prev_pagerank['https://simple.wikipedia.org/wiki/India']\n",
    "        ))\n",
    "        mean_pagerank = sum(prev_pagerank.values()) / len(prev_pagerank)\n",
    "        pagerank = defaultdict(lambda: mean_pagerank * delta)\n",
    "        for url in neighbors.keys():\n",
    "            curr_neighbor_list = neighbors[url]\n",
    "            for neighbor_url in curr_neighbor_list:\n",
    "                pagerank[neighbor_url] += prev_pagerank[url] / len(curr_neighbor_list) * (1 - delta)\n",
    "        pagerank = normilize_pagerank(pagerank)\n",
    "        diff = calc_diff(pagerank, prev_pagerank)\n",
    "        print('diff: ' + str(diff))\n",
    "        if diff < min_diff:\n",
    "            break\n",
    "        prev_pagerank = pagerank\n",
    "    return pagerank"
   ]
  },
  {
   "cell_type": "code",
   "execution_count": 48,
   "metadata": {},
   "outputs": [
    {
     "name": "stdout",
     "output_type": "stream",
     "text": [
      "0 iteration, India rank: 6.6172578083642136e-06\n",
      "diff: 6.764522103630347e-06\n",
      "1 iteration, India rank: 0.011445711426637703\n",
      "diff: 1.0123387660172889e-07\n",
      "2 iteration, India rank: 0.016829713668104294\n",
      "diff: 1.9090756872731438e-08\n",
      "3 iteration, India rank: 0.02009712106461585\n",
      "diff: 5.363637011027465e-09\n",
      "4 iteration, India rank: 0.02117589344092674\n",
      "diff: 1.8901437045676403e-09\n",
      "5 iteration, India rank: 0.021458291080219623\n",
      "diff: 7.481314135671983e-10\n",
      "6 iteration, India rank: 0.021508919015892906\n",
      "diff: 3.20876343908804e-10\n",
      "7 iteration, India rank: 0.021497834737330655\n",
      "diff: 1.490318463878671e-10\n",
      "8 iteration, India rank: 0.021475544204419692\n",
      "diff: 7.271933944216867e-11\n",
      "9 iteration, India rank: 0.02145536312222906\n",
      "diff: 3.767701491246187e-11\n",
      "10 iteration, India rank: 0.021439923856564742\n",
      "diff: 2.0114217405622024e-11\n",
      "11 iteration, India rank: 0.02142860306202745\n",
      "diff: 1.1209671267391326e-11\n",
      "12 iteration, India rank: 0.021420377951550183\n",
      "diff: 6.357524599216437e-12\n",
      "13 iteration, India rank: 0.021414284315473257\n",
      "diff: 3.7127048986845414e-12\n",
      "14 iteration, India rank: 0.02140967074587708\n",
      "diff: 2.1908568949911254e-12\n",
      "15 iteration, India rank: 0.02140607288696282\n",
      "diff: 1.3184265190195004e-12\n",
      "16 iteration, India rank: 0.02140320411639653\n",
      "diff: 7.9878958903405e-13\n",
      "17 iteration, India rank: 0.02140086749557312\n",
      "diff: 4.904686022173313e-13\n",
      "18 iteration, India rank: 0.02139893987087875\n",
      "diff: 3.0265453593954354e-13\n",
      "19 iteration, India rank: 0.021397333284978913\n",
      "diff: 1.885327202708384e-13\n",
      "20 iteration, India rank: 0.021395988391380877\n",
      "diff: 1.1792476736961034e-13\n",
      "21 iteration, India rank: 0.021394859385112874\n",
      "diff: 7.42814215231472e-14\n",
      "22 iteration, India rank: 0.021393911975419642\n",
      "diff: 4.696229099219041e-14\n",
      "23 iteration, India rank: 0.02139311772959932\n",
      "diff: 2.9856368333107595e-14\n",
      "24 iteration, India rank: 0.021392453569292185\n",
      "diff: 1.9047244725771968e-14\n",
      "25 iteration, India rank: 0.021391899632884088\n",
      "diff: 1.2208555530365161e-14\n",
      "26 iteration, India rank: 0.021391439146430765\n",
      "diff: 7.851874185332338e-15\n",
      "27 iteration, India rank: 0.02139105755142431\n",
      "diff: 5.071096149341993e-15\n",
      "28 iteration, India rank: 0.021390742413944903\n",
      "diff: 3.2863477859402096e-15\n",
      "29 iteration, India rank: 0.021390483001284225\n",
      "diff: 2.1381355622420647e-15\n",
      "30 iteration, India rank: 0.021390270167616434\n",
      "diff: 1.3959626440809848e-15\n",
      "31 iteration, India rank: 0.021390096097911652\n",
      "diff: 9.149256700785939e-16\n",
      "32 iteration, India rank: 0.02138995418066759\n",
      "diff: 6.018242872790254e-16\n",
      "33 iteration, India rank: 0.021389838826585815\n",
      "diff: 3.9741078979664447e-16\n",
      "34 iteration, India rank: 0.02138974534695028\n",
      "diff: 2.6342193948656637e-16\n",
      "35 iteration, India rank: 0.02138966981692572\n",
      "diff: 1.7530497341754525e-16\n",
      "36 iteration, India rank: 0.021389608971007355\n",
      "diff: 1.1712716031065164e-16\n",
      "37 iteration, India rank: 0.021389560099367835\n",
      "diff: 7.857984774780748e-17\n",
      "38 iteration, India rank: 0.021389520964240395\n",
      "diff: 5.293758500043377e-17\n",
      "39 iteration, India rank: 0.021389489722667805\n",
      "diff: 3.5815393890375264e-17\n",
      "40 iteration, India rank: 0.02138946486292533\n",
      "diff: 2.4335635062201157e-17\n",
      "41 iteration, India rank: 0.021389445148255522\n",
      "diff: 1.6608106694014344e-17\n",
      "42 iteration, India rank: 0.021389429570286198\n",
      "diff: 1.1384465129460223e-17\n",
      "43 iteration, India rank: 0.02138941730895296\n",
      "diff: 7.838619053566217e-18\n",
      "44 iteration, India rank: 0.021389407699312423\n",
      "diff: 5.4212630066293615e-18\n",
      "45 iteration, India rank: 0.021389400203529904\n",
      "diff: 3.7661313243558635e-18\n",
      "46 iteration, India rank: 0.021389394387778333\n",
      "diff: 2.6279005161688073e-18\n",
      "47 iteration, India rank: 0.021389389902984973\n",
      "diff: 1.8417103095109888e-18\n",
      "48 iteration, India rank: 0.02138938646900633\n",
      "diff: 1.2962849807437133e-18\n",
      "49 iteration, India rank: 0.02138938386158608\n",
      "diff: 9.16238748860606e-19\n"
     ]
    }
   ],
   "source": [
    "pagerank = calc_pagerank(neighbors, iterations=50)"
   ]
  },
  {
   "cell_type": "markdown",
   "metadata": {},
   "source": [
    "Отсортируем и сохраним результат"
   ]
  },
  {
   "cell_type": "code",
   "execution_count": 49,
   "metadata": {},
   "outputs": [],
   "source": [
    "sorted_pagerank = sorted(pagerank.items(), key=lambda x: -x[1])"
   ]
  },
  {
   "cell_type": "code",
   "execution_count": 50,
   "metadata": {},
   "outputs": [
    {
     "name": "stdout",
     "output_type": "stream",
     "text": [
      "  0   1.0 https://simple.wikipedia.org/wiki/Main_Page\n",
      "  1 0.1281 https://simple.wikipedia.org/wiki/International_Standard_Book_Number\n",
      "  2 0.0725 https://simple.wikipedia.org/wiki/United_States\n",
      "  3 0.0446 https://simple.wikipedia.org/wiki/France\n",
      "  4 0.03878 https://simple.wikipedia.org/wiki/Country\n",
      "  5 0.03762 https://simple.wikipedia.org/wiki/Definition\n",
      "  6 0.03403 https://simple.wikipedia.org/wiki/United_Kingdom\n",
      "  7 0.03374 https://simple.wikipedia.org/wiki/Japan\n",
      "  8 0.03302 https://simple.wikipedia.org/wiki/List_of_Wikipedias\n",
      "  9 0.03126 https://simple.wikipedia.org/wiki/Medicine\n",
      " 10 0.03096 https://simple.wikipedia.org/wiki/Art\n",
      " 11 0.03068 https://simple.wikipedia.org/wiki/Germany\n",
      " 12 0.03045 https://simple.wikipedia.org/wiki/English_language\n",
      " 13 0.02833 https://simple.wikipedia.org/wiki/Music\n",
      " 14 0.0268 https://simple.wikipedia.org/wiki/Europe\n",
      " 15 0.02547 https://simple.wikipedia.org/wiki/Digital_object_identifier\n",
      " 16 0.02469 https://simple.wikipedia.org/wiki/Government\n",
      " 17 0.02429 https://simple.wikipedia.org/wiki/Hinduism\n",
      " 18 0.02418 https://simple.wikipedia.org/wiki/Encyclopedia\n",
      " 19 0.02341 https://simple.wikipedia.org/wiki/Language\n"
     ]
    }
   ],
   "source": [
    "for ind, (url, rank) in enumerate(sorted_pagerank):\n",
    "    print(\"{:>3} {:>5.4} {}\".format(ind, rank, url))\n",
    "    if ind == 19:\n",
    "        break"
   ]
  },
  {
   "cell_type": "code",
   "execution_count": 60,
   "metadata": {},
   "outputs": [],
   "source": [
    "def dump_sorted_pagerank(sorted_pagerank, path='pagerank_results.txt'):\n",
    "    with open(path, 'w') as pagerank_file:\n",
    "        for ind, (url, rank) in enumerate(sorted_pagerank):\n",
    "            pagerank_file.write(\"{:>6} {:>7.6} {}\\n\".format(ind + 1, rank, url))\n",
    "\n",
    "\n",
    "def load_pagerank(path='pagerank_results.txt'):\n",
    "    with open(path) as pagerank_file:\n",
    "        pagerank = {}\n",
    "        for line in pagerank_file:\n",
    "            _, rank, url = line.strip().split()\n",
    "            pagerank[url] = float(rank)\n",
    "        return pagerank"
   ]
  },
  {
   "cell_type": "code",
   "execution_count": 61,
   "metadata": {},
   "outputs": [],
   "source": [
    "dump_sorted_pagerank(sorted_pagerank)"
   ]
  }
 ],
 "metadata": {
  "kernelspec": {
   "display_name": "Python 3",
   "language": "python",
   "name": "python3"
  },
  "language_info": {
   "codemirror_mode": {
    "name": "ipython",
    "version": 3
   },
   "file_extension": ".py",
   "mimetype": "text/x-python",
   "name": "python",
   "nbconvert_exporter": "python",
   "pygments_lexer": "ipython3",
   "version": "3.7.2"
  }
 },
 "nbformat": 4,
 "nbformat_minor": 2
}
