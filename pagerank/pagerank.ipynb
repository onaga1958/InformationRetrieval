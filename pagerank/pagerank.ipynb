{
 "cells": [
  {
   "cell_type": "code",
   "execution_count": 1,
   "metadata": {},
   "outputs": [],
   "source": [
    "from file_storage import FileStorage"
   ]
  },
  {
   "cell_type": "code",
   "execution_count": 2,
   "metadata": {},
   "outputs": [],
   "source": [
    "storage = FileStorage('../storage')"
   ]
  },
  {
   "cell_type": "code",
   "execution_count": 3,
   "metadata": {},
   "outputs": [],
   "source": [
    "filtered_storage = FileStorage('filtered_storage')"
   ]
  },
  {
   "cell_type": "code",
   "execution_count": 4,
   "metadata": {},
   "outputs": [],
   "source": [
    "beginning = 'https://simple.wikipedia.org/wiki/'\n",
    "ban_patterns = [\n",
    "    'Help', 'Help_talk', 'Wikipedia', 'Special', 'File', 'Template', 'Talk',\n",
    "    'Template_talk', 'User_talk', 'User', 'Meta', 'user', 'MediaWiki', 'MediaWiki_talk',\n",
    "    'Wikipedia_talk', 'Category_talk', 'Module', 'Media', 'Category', \n",
    "]\n",
    "\n",
    "def filter_url(url):\n",
    "    url_end = url[len(beginning):]\n",
    "    return any(url_end.startswith(ban_pattern + ':') for ban_pattern in ban_patterns)"
   ]
  },
  {
   "cell_type": "code",
   "execution_count": 5,
   "metadata": {},
   "outputs": [],
   "source": [
    "for ind, (url, page) in enumerate(storage.items()):\n",
    "    if not filter_url(url):\n",
    "        filtered_storage.write(url, page)\n",
    "    if ind > 2000:\n",
    "        break"
   ]
  },
  {
   "cell_type": "code",
   "execution_count": 6,
   "metadata": {},
   "outputs": [],
   "source": [
    "from bs4 import BeautifulSoup\n",
    "from urllib.parse import urljoin\n",
    "\n",
    "def extract_links_from_html(url, html):\n",
    "    parser = BeautifulSoup(html)\n",
    "    return [\n",
    "        urljoin(url, link.get('href'))\n",
    "        for link in parser.findAll('a')\n",
    "    ]"
   ]
  },
  {
   "cell_type": "code",
   "execution_count": 7,
   "metadata": {},
   "outputs": [],
   "source": [
    "from collections import defaultdict"
   ]
  },
  {
   "cell_type": "code",
   "execution_count": 22,
   "metadata": {},
   "outputs": [],
   "source": [
    "def calc_pagerank(storage, iterations=20, delta=0.1, prev_pagerank=None):\n",
    "    if prev_pagerank is None:\n",
    "        prev_pagerank = defaultdict(lambda: 1 / len(storage))\n",
    "    neighbors = {\n",
    "        url: [link for link in extract_links_from_html(url, page) if link in storage]\n",
    "        for url, page in storage.items()\n",
    "    }\n",
    "    for _ in range(iterations):\n",
    "        pagerank = defaultdict(lambda: delta)\n",
    "        for url in storage.keys():\n",
    "            for neighbor_url in neighbors[url]:\n",
    "                pagerank[neighbor_url] += prev_pagerank[url] / len(neighbors) * (1 - delta)\n",
    "        prev_pagerank = pagerank\n",
    "    max_rank = max(pagerank.values())\n",
    "    return {url: rank / max_rank for url, rank in pagerank.items()}"
   ]
  },
  {
   "cell_type": "code",
   "execution_count": 23,
   "metadata": {},
   "outputs": [],
   "source": [
    "pagerank = calc_pagerank(filtered_storage)"
   ]
  },
  {
   "cell_type": "code",
   "execution_count": 26,
   "metadata": {},
   "outputs": [],
   "source": [
    "sorted_pagerank = sorted(pagerank.items(), key=lambda x: -x[1])"
   ]
  },
  {
   "cell_type": "code",
   "execution_count": 27,
   "metadata": {},
   "outputs": [
    {
     "name": "stdout",
     "output_type": "stream",
     "text": [
      "0 1.0 https://simple.wikipedia.org/wiki/Main_Page\n",
      "1 0.48721 https://simple.wikipedia.org/wiki/International_Standard_Book_Number\n",
      "2 0.38554 https://simple.wikipedia.org/wiki/Netherlands\n",
      "3 0.3835 https://simple.wikipedia.org/wiki/India\n",
      "4 0.38255 https://simple.wikipedia.org/wiki/World_War_II\n",
      "5 0.38156 https://simple.wikipedia.org/wiki/Democratic_Party_(United_States)\n",
      "6 0.37829 https://simple.wikipedia.org/wiki/1960\n",
      "7 0.37791 https://simple.wikipedia.org/wiki/June\n",
      "8 0.37717 https://simple.wikipedia.org/wiki/April\n",
      "9 0.37714 https://simple.wikipedia.org/wiki/1979\n",
      "10 0.37657 https://simple.wikipedia.org/wiki/Turkey\n",
      "11 0.37641 https://simple.wikipedia.org/wiki/1928\n",
      "12 0.37619 https://simple.wikipedia.org/wiki/Greece\n",
      "13 0.37612 https://simple.wikipedia.org/wiki/Singer-songwriter\n",
      "14 0.37586 https://simple.wikipedia.org/wiki/1940\n",
      "15 0.37546 https://simple.wikipedia.org/wiki/1994\n",
      "16 0.37469 https://simple.wikipedia.org/wiki/Belgium\n",
      "17 0.37437 https://simple.wikipedia.org/wiki/1968\n",
      "18 0.37229 https://simple.wikipedia.org/wiki/Time_zone\n",
      "19 0.37111 https://simple.wikipedia.org/wiki/Egypt\n"
     ]
    }
   ],
   "source": [
    "for ind, (url, rank) in enumerate(sorted_pagerank):\n",
    "    print(\"{:3<} {:.5} {}\".format(ind, rank, url))\n",
    "    if ind == 19:\n",
    "        break"
   ]
  }
 ],
 "metadata": {
  "kernelspec": {
   "display_name": "Python 3",
   "language": "python",
   "name": "python3"
  },
  "language_info": {
   "codemirror_mode": {
    "name": "ipython",
    "version": 3
   },
   "file_extension": ".py",
   "mimetype": "text/x-python",
   "name": "python",
   "nbconvert_exporter": "python",
   "pygments_lexer": "ipython3",
   "version": "3.6.4"
  }
 },
 "nbformat": 4,
 "nbformat_minor": 2
}
