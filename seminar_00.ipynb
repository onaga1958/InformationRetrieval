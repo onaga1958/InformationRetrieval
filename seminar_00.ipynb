{
 "cells": [
  {
   "cell_type": "code",
   "execution_count": 20,
   "metadata": {},
   "outputs": [],
   "source": [
    "from urllib.parse import urlparse\n",
    "from urllib.parse import urldefrag\n",
    "import time"
   ]
  },
  {
   "cell_type": "code",
   "execution_count": 14,
   "metadata": {},
   "outputs": [],
   "source": [
    "from urllib.request import urlopen\n",
    "\n",
    "def download_from_the_internet(url):\n",
    "    try:\n",
    "        return urlopen(url).read().decode('utf-8')\n",
    "    except KeyboardInterrupt:\n",
    "        raise\n",
    "    except:\n",
    "        return None\n",
    "\n",
    "start_url = 'https://simple.wikipedia.org/wiki/Main_Page'"
   ]
  },
  {
   "cell_type": "code",
   "execution_count": 3,
   "metadata": {},
   "outputs": [],
   "source": [
    "from file_storage import FileStorage\n",
    "\n",
    "file_storage = FileStorage('storage')"
   ]
  },
  {
   "cell_type": "code",
   "execution_count": 4,
   "metadata": {},
   "outputs": [],
   "source": [
    "from bs4 import BeautifulSoup\n",
    "from urllib.parse import urljoin\n",
    "\n",
    "def extract_links_from_html(url, html):\n",
    "    parser = BeautifulSoup(html)\n",
    "    return [urljoin(url, link.get('href')) for link in parser.findAll('a')]"
   ]
  },
  {
   "cell_type": "code",
   "execution_count": 5,
   "metadata": {},
   "outputs": [],
   "source": [
    "import pickle"
   ]
  },
  {
   "cell_type": "code",
   "execution_count": 17,
   "metadata": {},
   "outputs": [],
   "source": [
    "ban_patterns = ['Help', 'Wikipedia', 'Special', 'File', 'Template']\n",
    "ban_patterns = [pattern + ':' for pattern in ban_patterns]\n",
    "urls_to_visit = {start_url}\n",
    "iteration = 0\n",
    "end = 0\n",
    "beginning = 'https://simple.wikipedia.org/wiki/'\n",
    "\n",
    "def filter_url(url):\n",
    "    if not url.startswith(beginning):\n",
    "        return True\n",
    "    url_end = url[len(beginning):]\n",
    "    return any(url_end.startswith(ban_pattern) for ban_pattern in ban_patterns)\n",
    "\n",
    "def download_wiki(iteration, urls_to_visit, need_log=False):\n",
    "    while urls_to_visit:\n",
    "        begin = time.time()\n",
    "        new_url = urls_to_visit.pop()\n",
    "        new_html = download_from_the_internet(new_url)\n",
    "        file_storage.write(new_url, new_html)\n",
    "        urls = extract_links_from_html(new_url, new_html)    \n",
    "        fresh_urls = [\n",
    "            urldefrag(url).url\n",
    "            for url in urls\n",
    "            if not file_storage.contains(url) and not filter_url(urldefrag(url).url)\n",
    "        ]\n",
    "        urls_to_visit.update(fresh_urls)\n",
    "        end = time.time()\n",
    "        if need_log:\n",
    "            print(iteration, new_url, len(fresh_urls), end - begin)\n",
    "        iteration += 1\n",
    "        if iteration % 10 == 0:\n",
    "            with open('state', 'wb') as state_file:\n",
    "                pickle.dump((iteration, urls_to_visit), state_file)\n",
    "                print('state saved')\n",
    "        "
   ]
  },
  {
   "cell_type": "code",
   "execution_count": null,
   "metadata": {},
   "outputs": [],
   "source": [
    "def load_state():\n",
    "    with open('state', 'rb') as state_file:\n",
    "        return pickle.load(state_file)"
   ]
  },
  {
   "cell_type": "code",
   "execution_count": null,
   "metadata": {},
   "outputs": [],
   "source": [
    "download_wiki(iteration, urls_to_visit)"
   ]
  },
  {
   "cell_type": "code",
   "execution_count": 18,
   "metadata": {},
   "outputs": [
    {
     "name": "stdout",
     "output_type": "stream",
     "text": [
      "0 https://simple.wikipedia.org/wiki/Main_Page 123\n",
      "1 https://simple.wikipedia.org/wiki/Theology 19\n",
      "2 https://simple.wikipedia.org/wiki/Physics 262\n",
      "3 https://simple.wikipedia.org/wiki/Education 52\n",
      "4 https://simple.wikipedia.org/wiki/History_of_the_United_States 1543\n",
      "5 https://simple.wikipedia.org/wiki/Heat 61\n",
      "6 https://simple.wikipedia.org/wiki/History_of_North_America 148\n",
      "7 https://simple.wikipedia.org/wiki/Whig_Party_(United_States) 45\n",
      "8 https://simple.wikipedia.org/wiki/Alien_and_Sedition_Acts 17\n",
      "9 https://simple.wikipedia.org/wiki/Project_Gutenberg 21\n",
      "state saved\n",
      "10 https://simple.wikipedia.org/wiki/Fur_Trade 37\n",
      "11 https://simple.wikipedia.org/wiki/File:At_close_grips2.jpg 8\n",
      "12 https://simple.wikipedia.org/wiki/Max_Planck 150\n",
      "13 https://simple.wikipedia.org/wiki/Wrigley_Field 288\n",
      "14 https://simple.wikipedia.org/wiki/Artist 105\n",
      "15 https://simple.wikipedia.org/wiki/Guam 157\n",
      "16 https://simple.wikipedia.org/wiki/Algebra 88\n",
      "17 https://simple.wikipedia.org/wiki/John_Cabot 67\n",
      "18 https://simple.wikipedia.org/wiki/Martin_Luther_King_Jr. 535\n",
      "19 https://simple.wikipedia.org/wiki/Comerica_Park 52\n",
      "state saved\n",
      "20 https://simple.wikipedia.org/wiki/Teaching 30\n",
      "21 https://simple.wikipedia.org/wiki/New_Mexico 233\n",
      "22 https://simple.wikipedia.org/wiki/Vitaly_Ginzburg 156\n",
      "23 https://simple.wikipedia.org/wiki/Decolonization 20\n",
      "24 https://simple.wikipedia.org/wiki/Karl_Alexander_M%C3%BCller 118\n",
      "25 https://simple.wikipedia.org/wiki/Western_Europe 53\n",
      "26 https://simple.wikipedia.org/wiki/Galilee 20\n",
      "27 https://simple.wikipedia.org/wiki/Bankruptcy 50\n",
      "28 https://simple.wikipedia.org/wiki/Quebec_City 54\n",
      "29 https://simple.wikipedia.org/wiki/Pre-Columbian 19\n",
      "state saved\n",
      "30 https://simple.wikipedia.org/wiki/Monroe_Doctrine 37\n",
      "31 https://simple.wikipedia.org/wiki/FBI 56\n",
      "32 https://simple.wikipedia.org/wiki/Roswell,_New_Mexico 29\n",
      "33 https://simple.wikipedia.org/wiki/Paul_Dirac 170\n",
      "34 https://simple.wikipedia.org/wiki/Johannesburg 24\n",
      "35 https://simple.wikipedia.org/wiki/File:USS_Olympia_art_NH_91881-KN_cropped.jpg 11\n",
      "36 https://simple.wikipedia.org/wiki/United_Nations_Headquarters 24\n",
      "37 https://simple.wikipedia.org/wiki/Employee 14\n",
      "38 https://simple.wikipedia.org/wiki/Stock_market 23\n",
      "39 https://simple.wikipedia.org/wiki/Denver,_Colorado 199\n",
      "state saved\n",
      "40 https://simple.wikipedia.org/wiki/SunTrust_Park 15\n",
      "41 https://simple.wikipedia.org/wiki/Superstition 19\n",
      "42 https://simple.wikipedia.org/wiki/Richmond,_Virginia 132\n",
      "43 https://simple.wikipedia.org/wiki/Colorado_Springs,_Colorado 124\n",
      "44 https://simple.wikipedia.org/wiki/Minimum_wage 25\n",
      "45 https://simple.wikipedia.org/wiki/Tallahassee 250\n",
      "46 https://simple.wikipedia.org/wiki/Honolulu 121\n",
      "47 https://simple.wikipedia.org/wiki/Alachua_County,_Florida 144\n",
      "48 https://simple.wikipedia.org/wiki/Cooking 47\n",
      "49 https://simple.wikipedia.org/wiki/Finished_goods 12\n",
      "state saved\n",
      "50 https://simple.wikipedia.org/wiki/James_Cronin 116\n",
      "51 https://simple.wikipedia.org/wiki/File:Martin_Luther_King_Jr_Signature2.svg 9\n",
      "52 https://simple.wikipedia.org/wiki/North_American_Free_Trade_Agreement 34\n",
      "53 https://simple.wikipedia.org/wiki/Diego_Rivera 27\n",
      "54 https://simple.wikipedia.org/wiki/Quadrivium 26\n",
      "55 https://simple.wikipedia.org/wiki/Special_relativity 69\n",
      "56 https://simple.wikipedia.org/wiki/Scientific_law 9\n",
      "57 https://simple.wikipedia.org/wiki/Representative_democracy 28\n",
      "58 https://simple.wikipedia.org/wiki/Category:Books 56\n",
      "59 https://simple.wikipedia.org/wiki/Addition 32\n",
      "state saved\n",
      "60 https://simple.wikipedia.org/wiki/Sports 84\n",
      "61 https://simple.wikipedia.org/wiki/Template:Time_Persons_of_the_Year_1927%E2%80%931950 26\n",
      "62 https://simple.wikipedia.org/wiki/Italy 556\n",
      "63 https://simple.wikipedia.org/wiki/Burton_Richter 118\n",
      "64 https://simple.wikipedia.org/wiki/Fort_Knox 21\n",
      "65 https://simple.wikipedia.org/wiki/Socialism 61\n",
      "66 https://simple.wikipedia.org/wiki/Province_of_Trieste 20\n",
      "67 https://simple.wikipedia.org/wiki/Cyprus 79\n",
      "68 https://simple.wikipedia.org/wiki/John_Hancock 105\n",
      "69 https://simple.wikipedia.org/wiki/Finland 383\n",
      "state saved\n",
      "70 https://simple.wikipedia.org/wiki/Wilhelm_R%C3%B6ntgen 130\n",
      "71 https://simple.wikipedia.org/wiki/Rome 241\n"
     ]
    },
    {
     "ename": "KeyboardInterrupt",
     "evalue": "",
     "output_type": "error",
     "traceback": [
      "\u001b[0;31m---------------------------------------------------------------------------\u001b[0m",
      "\u001b[0;31mKeyboardInterrupt\u001b[0m                         Traceback (most recent call last)",
      "\u001b[0;32m<ipython-input-18-a1afca0e465a>\u001b[0m in \u001b[0;36m<module>\u001b[0;34m()\u001b[0m\n\u001b[0;32m----> 1\u001b[0;31m \u001b[0mdownload_wiki\u001b[0m\u001b[0;34m(\u001b[0m\u001b[0miteration\u001b[0m\u001b[0;34m,\u001b[0m \u001b[0murls_to_visit\u001b[0m\u001b[0;34m,\u001b[0m \u001b[0mneed_log\u001b[0m\u001b[0;34m=\u001b[0m\u001b[0;32mTrue\u001b[0m\u001b[0;34m)\u001b[0m\u001b[0;34m\u001b[0m\u001b[0m\n\u001b[0m",
      "\u001b[0;32m<ipython-input-17-139490198f1b>\u001b[0m in \u001b[0;36mdownload_wiki\u001b[0;34m(iteration, urls_to_visit, need_log)\u001b[0m\n\u001b[1;32m     14\u001b[0m     \u001b[0;32mwhile\u001b[0m \u001b[0murls_to_visit\u001b[0m\u001b[0;34m:\u001b[0m\u001b[0;34m\u001b[0m\u001b[0m\n\u001b[1;32m     15\u001b[0m         \u001b[0mnew_url\u001b[0m \u001b[0;34m=\u001b[0m \u001b[0murls_to_visit\u001b[0m\u001b[0;34m.\u001b[0m\u001b[0mpop\u001b[0m\u001b[0;34m(\u001b[0m\u001b[0;34m)\u001b[0m\u001b[0;34m\u001b[0m\u001b[0m\n\u001b[0;32m---> 16\u001b[0;31m         \u001b[0mnew_html\u001b[0m \u001b[0;34m=\u001b[0m \u001b[0mdownload_from_the_internet\u001b[0m\u001b[0;34m(\u001b[0m\u001b[0mnew_url\u001b[0m\u001b[0;34m)\u001b[0m\u001b[0;34m\u001b[0m\u001b[0m\n\u001b[0m\u001b[1;32m     17\u001b[0m         \u001b[0mfile_storage\u001b[0m\u001b[0;34m.\u001b[0m\u001b[0mwrite\u001b[0m\u001b[0;34m(\u001b[0m\u001b[0mnew_url\u001b[0m\u001b[0;34m,\u001b[0m \u001b[0mnew_html\u001b[0m\u001b[0;34m)\u001b[0m\u001b[0;34m\u001b[0m\u001b[0m\n\u001b[1;32m     18\u001b[0m         \u001b[0murls\u001b[0m \u001b[0;34m=\u001b[0m \u001b[0mextract_links_from_html\u001b[0m\u001b[0;34m(\u001b[0m\u001b[0mnew_url\u001b[0m\u001b[0;34m,\u001b[0m \u001b[0mnew_html\u001b[0m\u001b[0;34m)\u001b[0m\u001b[0;34m\u001b[0m\u001b[0m\n",
      "\u001b[0;32m<ipython-input-14-5fe8d3051a5b>\u001b[0m in \u001b[0;36mdownload_from_the_internet\u001b[0;34m(url)\u001b[0m\n\u001b[1;32m      3\u001b[0m \u001b[0;32mdef\u001b[0m \u001b[0mdownload_from_the_internet\u001b[0m\u001b[0;34m(\u001b[0m\u001b[0murl\u001b[0m\u001b[0;34m)\u001b[0m\u001b[0;34m:\u001b[0m\u001b[0;34m\u001b[0m\u001b[0m\n\u001b[1;32m      4\u001b[0m     \u001b[0;32mtry\u001b[0m\u001b[0;34m:\u001b[0m\u001b[0;34m\u001b[0m\u001b[0m\n\u001b[0;32m----> 5\u001b[0;31m         \u001b[0;32mreturn\u001b[0m \u001b[0murlopen\u001b[0m\u001b[0;34m(\u001b[0m\u001b[0murl\u001b[0m\u001b[0;34m)\u001b[0m\u001b[0;34m.\u001b[0m\u001b[0mread\u001b[0m\u001b[0;34m(\u001b[0m\u001b[0;34m)\u001b[0m\u001b[0;34m.\u001b[0m\u001b[0mdecode\u001b[0m\u001b[0;34m(\u001b[0m\u001b[0;34m'utf-8'\u001b[0m\u001b[0;34m)\u001b[0m\u001b[0;34m\u001b[0m\u001b[0m\n\u001b[0m\u001b[1;32m      6\u001b[0m     \u001b[0;32mexcept\u001b[0m \u001b[0mKeyboardInterrupt\u001b[0m\u001b[0;34m:\u001b[0m\u001b[0;34m\u001b[0m\u001b[0m\n\u001b[1;32m      7\u001b[0m         \u001b[0;32mraise\u001b[0m\u001b[0;34m\u001b[0m\u001b[0m\n",
      "\u001b[0;32m/usr/local/Cellar/python/3.6.4_4/Frameworks/Python.framework/Versions/3.6/lib/python3.6/http/client.py\u001b[0m in \u001b[0;36mread\u001b[0;34m(self, amt)\u001b[0m\n\u001b[1;32m    454\u001b[0m \u001b[0;34m\u001b[0m\u001b[0m\n\u001b[1;32m    455\u001b[0m             \u001b[0;32mif\u001b[0m \u001b[0mself\u001b[0m\u001b[0;34m.\u001b[0m\u001b[0mchunked\u001b[0m\u001b[0;34m:\u001b[0m\u001b[0;34m\u001b[0m\u001b[0m\n\u001b[0;32m--> 456\u001b[0;31m                 \u001b[0;32mreturn\u001b[0m \u001b[0mself\u001b[0m\u001b[0;34m.\u001b[0m\u001b[0m_readall_chunked\u001b[0m\u001b[0;34m(\u001b[0m\u001b[0;34m)\u001b[0m\u001b[0;34m\u001b[0m\u001b[0m\n\u001b[0m\u001b[1;32m    457\u001b[0m \u001b[0;34m\u001b[0m\u001b[0m\n\u001b[1;32m    458\u001b[0m             \u001b[0;32mif\u001b[0m \u001b[0mself\u001b[0m\u001b[0;34m.\u001b[0m\u001b[0mlength\u001b[0m \u001b[0;32mis\u001b[0m \u001b[0;32mNone\u001b[0m\u001b[0;34m:\u001b[0m\u001b[0;34m\u001b[0m\u001b[0m\n",
      "\u001b[0;32m/usr/local/Cellar/python/3.6.4_4/Frameworks/Python.framework/Versions/3.6/lib/python3.6/http/client.py\u001b[0m in \u001b[0;36m_readall_chunked\u001b[0;34m(self)\u001b[0m\n\u001b[1;32m    564\u001b[0m                 \u001b[0;32mif\u001b[0m \u001b[0mchunk_left\u001b[0m \u001b[0;32mis\u001b[0m \u001b[0;32mNone\u001b[0m\u001b[0;34m:\u001b[0m\u001b[0;34m\u001b[0m\u001b[0m\n\u001b[1;32m    565\u001b[0m                     \u001b[0;32mbreak\u001b[0m\u001b[0;34m\u001b[0m\u001b[0m\n\u001b[0;32m--> 566\u001b[0;31m                 \u001b[0mvalue\u001b[0m\u001b[0;34m.\u001b[0m\u001b[0mappend\u001b[0m\u001b[0;34m(\u001b[0m\u001b[0mself\u001b[0m\u001b[0;34m.\u001b[0m\u001b[0m_safe_read\u001b[0m\u001b[0;34m(\u001b[0m\u001b[0mchunk_left\u001b[0m\u001b[0;34m)\u001b[0m\u001b[0;34m)\u001b[0m\u001b[0;34m\u001b[0m\u001b[0m\n\u001b[0m\u001b[1;32m    567\u001b[0m                 \u001b[0mself\u001b[0m\u001b[0;34m.\u001b[0m\u001b[0mchunk_left\u001b[0m \u001b[0;34m=\u001b[0m \u001b[0;36m0\u001b[0m\u001b[0;34m\u001b[0m\u001b[0m\n\u001b[1;32m    568\u001b[0m             \u001b[0;32mreturn\u001b[0m \u001b[0;34mb''\u001b[0m\u001b[0;34m.\u001b[0m\u001b[0mjoin\u001b[0m\u001b[0;34m(\u001b[0m\u001b[0mvalue\u001b[0m\u001b[0;34m)\u001b[0m\u001b[0;34m\u001b[0m\u001b[0m\n",
      "\u001b[0;32m/usr/local/Cellar/python/3.6.4_4/Frameworks/Python.framework/Versions/3.6/lib/python3.6/http/client.py\u001b[0m in \u001b[0;36m_safe_read\u001b[0;34m(self, amt)\u001b[0m\n\u001b[1;32m    610\u001b[0m         \u001b[0ms\u001b[0m \u001b[0;34m=\u001b[0m \u001b[0;34m[\u001b[0m\u001b[0;34m]\u001b[0m\u001b[0;34m\u001b[0m\u001b[0m\n\u001b[1;32m    611\u001b[0m         \u001b[0;32mwhile\u001b[0m \u001b[0mamt\u001b[0m \u001b[0;34m>\u001b[0m \u001b[0;36m0\u001b[0m\u001b[0;34m:\u001b[0m\u001b[0;34m\u001b[0m\u001b[0m\n\u001b[0;32m--> 612\u001b[0;31m             \u001b[0mchunk\u001b[0m \u001b[0;34m=\u001b[0m \u001b[0mself\u001b[0m\u001b[0;34m.\u001b[0m\u001b[0mfp\u001b[0m\u001b[0;34m.\u001b[0m\u001b[0mread\u001b[0m\u001b[0;34m(\u001b[0m\u001b[0mmin\u001b[0m\u001b[0;34m(\u001b[0m\u001b[0mamt\u001b[0m\u001b[0;34m,\u001b[0m \u001b[0mMAXAMOUNT\u001b[0m\u001b[0;34m)\u001b[0m\u001b[0;34m)\u001b[0m\u001b[0;34m\u001b[0m\u001b[0m\n\u001b[0m\u001b[1;32m    613\u001b[0m             \u001b[0;32mif\u001b[0m \u001b[0;32mnot\u001b[0m \u001b[0mchunk\u001b[0m\u001b[0;34m:\u001b[0m\u001b[0;34m\u001b[0m\u001b[0m\n\u001b[1;32m    614\u001b[0m                 \u001b[0;32mraise\u001b[0m \u001b[0mIncompleteRead\u001b[0m\u001b[0;34m(\u001b[0m\u001b[0;34mb''\u001b[0m\u001b[0;34m.\u001b[0m\u001b[0mjoin\u001b[0m\u001b[0;34m(\u001b[0m\u001b[0ms\u001b[0m\u001b[0;34m)\u001b[0m\u001b[0;34m,\u001b[0m \u001b[0mamt\u001b[0m\u001b[0;34m)\u001b[0m\u001b[0;34m\u001b[0m\u001b[0m\n",
      "\u001b[0;32m/usr/local/Cellar/python/3.6.4_4/Frameworks/Python.framework/Versions/3.6/lib/python3.6/socket.py\u001b[0m in \u001b[0;36mreadinto\u001b[0;34m(self, b)\u001b[0m\n\u001b[1;32m    584\u001b[0m         \u001b[0;32mwhile\u001b[0m \u001b[0;32mTrue\u001b[0m\u001b[0;34m:\u001b[0m\u001b[0;34m\u001b[0m\u001b[0m\n\u001b[1;32m    585\u001b[0m             \u001b[0;32mtry\u001b[0m\u001b[0;34m:\u001b[0m\u001b[0;34m\u001b[0m\u001b[0m\n\u001b[0;32m--> 586\u001b[0;31m                 \u001b[0;32mreturn\u001b[0m \u001b[0mself\u001b[0m\u001b[0;34m.\u001b[0m\u001b[0m_sock\u001b[0m\u001b[0;34m.\u001b[0m\u001b[0mrecv_into\u001b[0m\u001b[0;34m(\u001b[0m\u001b[0mb\u001b[0m\u001b[0;34m)\u001b[0m\u001b[0;34m\u001b[0m\u001b[0m\n\u001b[0m\u001b[1;32m    587\u001b[0m             \u001b[0;32mexcept\u001b[0m \u001b[0mtimeout\u001b[0m\u001b[0;34m:\u001b[0m\u001b[0;34m\u001b[0m\u001b[0m\n\u001b[1;32m    588\u001b[0m                 \u001b[0mself\u001b[0m\u001b[0;34m.\u001b[0m\u001b[0m_timeout_occurred\u001b[0m \u001b[0;34m=\u001b[0m \u001b[0;32mTrue\u001b[0m\u001b[0;34m\u001b[0m\u001b[0m\n",
      "\u001b[0;32m/usr/local/Cellar/python/3.6.4_4/Frameworks/Python.framework/Versions/3.6/lib/python3.6/ssl.py\u001b[0m in \u001b[0;36mrecv_into\u001b[0;34m(self, buffer, nbytes, flags)\u001b[0m\n\u001b[1;32m   1007\u001b[0m                   \u001b[0;34m\"non-zero flags not allowed in calls to recv_into() on %s\"\u001b[0m \u001b[0;34m%\u001b[0m\u001b[0;34m\u001b[0m\u001b[0m\n\u001b[1;32m   1008\u001b[0m                   self.__class__)\n\u001b[0;32m-> 1009\u001b[0;31m             \u001b[0;32mreturn\u001b[0m \u001b[0mself\u001b[0m\u001b[0;34m.\u001b[0m\u001b[0mread\u001b[0m\u001b[0;34m(\u001b[0m\u001b[0mnbytes\u001b[0m\u001b[0;34m,\u001b[0m \u001b[0mbuffer\u001b[0m\u001b[0;34m)\u001b[0m\u001b[0;34m\u001b[0m\u001b[0m\n\u001b[0m\u001b[1;32m   1010\u001b[0m         \u001b[0;32melse\u001b[0m\u001b[0;34m:\u001b[0m\u001b[0;34m\u001b[0m\u001b[0m\n\u001b[1;32m   1011\u001b[0m             \u001b[0;32mreturn\u001b[0m \u001b[0msocket\u001b[0m\u001b[0;34m.\u001b[0m\u001b[0mrecv_into\u001b[0m\u001b[0;34m(\u001b[0m\u001b[0mself\u001b[0m\u001b[0;34m,\u001b[0m \u001b[0mbuffer\u001b[0m\u001b[0;34m,\u001b[0m \u001b[0mnbytes\u001b[0m\u001b[0;34m,\u001b[0m \u001b[0mflags\u001b[0m\u001b[0;34m)\u001b[0m\u001b[0;34m\u001b[0m\u001b[0m\n",
      "\u001b[0;32m/usr/local/Cellar/python/3.6.4_4/Frameworks/Python.framework/Versions/3.6/lib/python3.6/ssl.py\u001b[0m in \u001b[0;36mread\u001b[0;34m(self, len, buffer)\u001b[0m\n\u001b[1;32m    869\u001b[0m             \u001b[0;32mraise\u001b[0m \u001b[0mValueError\u001b[0m\u001b[0;34m(\u001b[0m\u001b[0;34m\"Read on closed or unwrapped SSL socket.\"\u001b[0m\u001b[0;34m)\u001b[0m\u001b[0;34m\u001b[0m\u001b[0m\n\u001b[1;32m    870\u001b[0m         \u001b[0;32mtry\u001b[0m\u001b[0;34m:\u001b[0m\u001b[0;34m\u001b[0m\u001b[0m\n\u001b[0;32m--> 871\u001b[0;31m             \u001b[0;32mreturn\u001b[0m \u001b[0mself\u001b[0m\u001b[0;34m.\u001b[0m\u001b[0m_sslobj\u001b[0m\u001b[0;34m.\u001b[0m\u001b[0mread\u001b[0m\u001b[0;34m(\u001b[0m\u001b[0mlen\u001b[0m\u001b[0;34m,\u001b[0m \u001b[0mbuffer\u001b[0m\u001b[0;34m)\u001b[0m\u001b[0;34m\u001b[0m\u001b[0m\n\u001b[0m\u001b[1;32m    872\u001b[0m         \u001b[0;32mexcept\u001b[0m \u001b[0mSSLError\u001b[0m \u001b[0;32mas\u001b[0m \u001b[0mx\u001b[0m\u001b[0;34m:\u001b[0m\u001b[0;34m\u001b[0m\u001b[0m\n\u001b[1;32m    873\u001b[0m             \u001b[0;32mif\u001b[0m \u001b[0mx\u001b[0m\u001b[0;34m.\u001b[0m\u001b[0margs\u001b[0m\u001b[0;34m[\u001b[0m\u001b[0;36m0\u001b[0m\u001b[0;34m]\u001b[0m \u001b[0;34m==\u001b[0m \u001b[0mSSL_ERROR_EOF\u001b[0m \u001b[0;32mand\u001b[0m \u001b[0mself\u001b[0m\u001b[0;34m.\u001b[0m\u001b[0msuppress_ragged_eofs\u001b[0m\u001b[0;34m:\u001b[0m\u001b[0;34m\u001b[0m\u001b[0m\n",
      "\u001b[0;32m/usr/local/Cellar/python/3.6.4_4/Frameworks/Python.framework/Versions/3.6/lib/python3.6/ssl.py\u001b[0m in \u001b[0;36mread\u001b[0;34m(self, len, buffer)\u001b[0m\n\u001b[1;32m    629\u001b[0m         \"\"\"\n\u001b[1;32m    630\u001b[0m         \u001b[0;32mif\u001b[0m \u001b[0mbuffer\u001b[0m \u001b[0;32mis\u001b[0m \u001b[0;32mnot\u001b[0m \u001b[0;32mNone\u001b[0m\u001b[0;34m:\u001b[0m\u001b[0;34m\u001b[0m\u001b[0m\n\u001b[0;32m--> 631\u001b[0;31m             \u001b[0mv\u001b[0m \u001b[0;34m=\u001b[0m \u001b[0mself\u001b[0m\u001b[0;34m.\u001b[0m\u001b[0m_sslobj\u001b[0m\u001b[0;34m.\u001b[0m\u001b[0mread\u001b[0m\u001b[0;34m(\u001b[0m\u001b[0mlen\u001b[0m\u001b[0;34m,\u001b[0m \u001b[0mbuffer\u001b[0m\u001b[0;34m)\u001b[0m\u001b[0;34m\u001b[0m\u001b[0m\n\u001b[0m\u001b[1;32m    632\u001b[0m         \u001b[0;32melse\u001b[0m\u001b[0;34m:\u001b[0m\u001b[0;34m\u001b[0m\u001b[0m\n\u001b[1;32m    633\u001b[0m             \u001b[0mv\u001b[0m \u001b[0;34m=\u001b[0m \u001b[0mself\u001b[0m\u001b[0;34m.\u001b[0m\u001b[0m_sslobj\u001b[0m\u001b[0;34m.\u001b[0m\u001b[0mread\u001b[0m\u001b[0;34m(\u001b[0m\u001b[0mlen\u001b[0m\u001b[0;34m)\u001b[0m\u001b[0;34m\u001b[0m\u001b[0m\n",
      "\u001b[0;31mKeyboardInterrupt\u001b[0m: "
     ]
    }
   ],
   "source": [
    "iteration, urls_to_visit = load_state()\n",
    "download_wiki(iteration, urls_to_visit, need_log=True)"
   ]
  },
  {
   "cell_type": "code",
   "execution_count": null,
   "metadata": {},
   "outputs": [],
   "source": []
  }
 ],
 "metadata": {
  "kernelspec": {
   "display_name": "Python 3",
   "language": "python",
   "name": "python3"
  },
  "language_info": {
   "codemirror_mode": {
    "name": "ipython",
    "version": 3
   },
   "file_extension": ".py",
   "mimetype": "text/x-python",
   "name": "python",
   "nbconvert_exporter": "python",
   "pygments_lexer": "ipython3",
   "version": "3.6.4"
  }
 },
 "nbformat": 4,
 "nbformat_minor": 2
}
